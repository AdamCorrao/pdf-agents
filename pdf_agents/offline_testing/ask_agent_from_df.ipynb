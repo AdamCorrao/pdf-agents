{
 "cells": [
  {
   "attachments": {},
   "cell_type": "markdown",
   "metadata": {},
   "source": [
    "# Example agent invesitgation\n",
    "This mimics the script in `mmm3-sva-pdf.py` with minimal and perhaps broken functionality due to a lack of redis, tiled, kafka, etc. \n",
    "\n",
    "It doesn't look at what an **exact** agent **did**, but what a type of agent **might do**.\n",
    "\n",
    "Similar recreations of other agents could be attempted by following a similar approach. "
   ]
  },
  {
   "cell_type": "code",
   "execution_count": 1,
   "metadata": {},
   "outputs": [],
   "source": [
    "import sys\n",
    "\n",
    "sys.path.append(\"../../\")\n",
    "import pandas as pd\n",
    "import numpy as np\n",
    "from pdf_agents.scientific_value import ScientificValueAgentBase"
   ]
  },
  {
   "attachments": {},
   "cell_type": "markdown",
   "metadata": {},
   "source": [
    "### Choose your fighter"
   ]
  },
  {
   "cell_type": "code",
   "execution_count": 2,
   "metadata": {},
   "outputs": [
    {
     "name": "stderr",
     "output_type": "stream",
     "text": [
      "Agent server unable to make registrations. Continuing regardless of\n",
      " Worker initialization is incomplete\n"
     ]
    }
   ],
   "source": [
    "agent = ScientificValueAgentBase(bounds=[-12.0, 46.0], ask_on_tell=False, report_on_tell=False, offline=True)"
   ]
  },
  {
   "attachments": {},
   "cell_type": "markdown",
   "metadata": {},
   "source": [
    "### Load and tell the agent about data"
   ]
  },
  {
   "cell_type": "code",
   "execution_count": 3,
   "metadata": {},
   "outputs": [],
   "source": [
    "df = pd.read_pickle(\"~/Downloads/sim_pdf_df_020pts.pckl\")\n",
    "independent_vars = df.columns.to_numpy()\n",
    "observables = df.to_numpy().T"
   ]
  },
  {
   "cell_type": "code",
   "execution_count": 4,
   "metadata": {},
   "outputs": [],
   "source": [
    "agent.tell_many(independent_vars, observables)\n",
    "for x in independent_vars:\n",
    "    # This is done because the tell is happening without UIDs.\n",
    "    agent.tell_cache.append(x)"
   ]
  },
  {
   "attachments": {},
   "cell_type": "markdown",
   "metadata": {},
   "source": [
    "### Ask the agent what it would do next\n",
    "\n",
    "Some agents can suggest multiple points, some are designed to go one at a time. "
   ]
  },
  {
   "cell_type": "code",
   "execution_count": 9,
   "metadata": {},
   "outputs": [
    {
     "name": "stderr",
     "output_type": "stream",
     "text": [
      "/Users/pmm/Development/bluesky-adaptive/venv/lib/python3.9/site-packages/botorch/models/utils/assorted.py:173: InputDataWarning: Input data is not contained to the unit cube. Please consider min-max scaling the input data.\n",
      "  warnings.warn(msg, InputDataWarning)\n",
      "/Users/pmm/Development/bluesky-adaptive/venv/lib/python3.9/site-packages/botorch/models/utils/assorted.py:201: InputDataWarning: Input data is not standardized. Please consider scaling the input to zero mean and unit variance.\n",
      "  warnings.warn(msg, InputDataWarning)\n"
     ]
    }
   ],
   "source": [
    "docs, suggestions = agent.ask(1)"
   ]
  },
  {
   "cell_type": "code",
   "execution_count": 10,
   "metadata": {},
   "outputs": [
    {
     "data": {
      "text/plain": [
       "[{'candidate': array([21.], dtype=float32),\n",
       "  'acquisition_value': array(17.23034495),\n",
       "  'latest_data': 27.0,\n",
       "  'cache_len': 20,\n",
       "  'latest_value': 10.178344407101017,\n",
       "  'ucb_beta': 1.0}]"
      ]
     },
     "execution_count": 10,
     "metadata": {},
     "output_type": "execute_result"
    }
   ],
   "source": [
    "docs"
   ]
  },
  {
   "cell_type": "code",
   "execution_count": 11,
   "metadata": {},
   "outputs": [
    {
     "data": {
      "text/plain": [
       "[[21.0]]"
      ]
     },
     "execution_count": 11,
     "metadata": {},
     "output_type": "execute_result"
    }
   ],
   "source": [
    "suggestions"
   ]
  }
 ],
 "metadata": {
  "kernelspec": {
   "display_name": "venv",
   "language": "python",
   "name": "python3"
  },
  "language_info": {
   "codemirror_mode": {
    "name": "ipython",
    "version": 3
   },
   "file_extension": ".py",
   "mimetype": "text/x-python",
   "name": "python",
   "nbconvert_exporter": "python",
   "pygments_lexer": "ipython3",
   "version": "3.9.12"
  },
  "orig_nbformat": 4
 },
 "nbformat": 4,
 "nbformat_minor": 2
}
